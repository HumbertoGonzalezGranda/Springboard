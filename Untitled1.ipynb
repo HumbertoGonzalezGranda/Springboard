{
 "cells": [
  {
   "cell_type": "code",
   "execution_count": 1,
   "metadata": {},
   "outputs": [
    {
     "data": {
      "text/html": [
       "<div>\n",
       "<style scoped>\n",
       "    .dataframe tbody tr th:only-of-type {\n",
       "        vertical-align: middle;\n",
       "    }\n",
       "\n",
       "    .dataframe tbody tr th {\n",
       "        vertical-align: top;\n",
       "    }\n",
       "\n",
       "    .dataframe thead th {\n",
       "        text-align: right;\n",
       "    }\n",
       "</style>\n",
       "<table border=\"1\" class=\"dataframe\">\n",
       "  <thead>\n",
       "    <tr style=\"text-align: right;\">\n",
       "      <th></th>\n",
       "      <th>id</th>\n",
       "      <th>log_price</th>\n",
       "      <th>property_type</th>\n",
       "      <th>room_type</th>\n",
       "      <th>amenities</th>\n",
       "      <th>accommodates</th>\n",
       "      <th>bathrooms</th>\n",
       "      <th>bed_type</th>\n",
       "      <th>cancellation_policy</th>\n",
       "      <th>cleaning_fee</th>\n",
       "      <th>...</th>\n",
       "      <th>latitude</th>\n",
       "      <th>longitude</th>\n",
       "      <th>name</th>\n",
       "      <th>neighbourhood</th>\n",
       "      <th>number_of_reviews</th>\n",
       "      <th>review_scores_rating</th>\n",
       "      <th>thumbnail_url</th>\n",
       "      <th>zipcode</th>\n",
       "      <th>bedrooms</th>\n",
       "      <th>beds</th>\n",
       "    </tr>\n",
       "  </thead>\n",
       "  <tbody>\n",
       "    <tr>\n",
       "      <th>0</th>\n",
       "      <td>6901257</td>\n",
       "      <td>5.011</td>\n",
       "      <td>Apartment</td>\n",
       "      <td>Entire home/apt</td>\n",
       "      <td>{\"Wireless Internet\",\"Air conditioning\",Kitche...</td>\n",
       "      <td>3</td>\n",
       "      <td>1.000</td>\n",
       "      <td>Real Bed</td>\n",
       "      <td>strict</td>\n",
       "      <td>True</td>\n",
       "      <td>...</td>\n",
       "      <td>40.697</td>\n",
       "      <td>-73.992</td>\n",
       "      <td>Beautiful brownstone 1-bedroom</td>\n",
       "      <td>Brooklyn Heights</td>\n",
       "      <td>2</td>\n",
       "      <td>100.000</td>\n",
       "      <td>https://a0.muscache.com/im/pictures/6d7cbbf7-c...</td>\n",
       "      <td>11201</td>\n",
       "      <td>1.000</td>\n",
       "      <td>1.000</td>\n",
       "    </tr>\n",
       "    <tr>\n",
       "      <th>1</th>\n",
       "      <td>6304928</td>\n",
       "      <td>5.130</td>\n",
       "      <td>Apartment</td>\n",
       "      <td>Entire home/apt</td>\n",
       "      <td>{\"Wireless Internet\",\"Air conditioning\",Kitche...</td>\n",
       "      <td>7</td>\n",
       "      <td>1.000</td>\n",
       "      <td>Real Bed</td>\n",
       "      <td>strict</td>\n",
       "      <td>True</td>\n",
       "      <td>...</td>\n",
       "      <td>40.766</td>\n",
       "      <td>-73.989</td>\n",
       "      <td>Superb 3BR Apt Located Near Times Square</td>\n",
       "      <td>Hell's Kitchen</td>\n",
       "      <td>6</td>\n",
       "      <td>93.000</td>\n",
       "      <td>https://a0.muscache.com/im/pictures/348a55fe-4...</td>\n",
       "      <td>10019</td>\n",
       "      <td>3.000</td>\n",
       "      <td>3.000</td>\n",
       "    </tr>\n",
       "    <tr>\n",
       "      <th>2</th>\n",
       "      <td>7919400</td>\n",
       "      <td>4.977</td>\n",
       "      <td>Apartment</td>\n",
       "      <td>Entire home/apt</td>\n",
       "      <td>{TV,\"Cable TV\",\"Wireless Internet\",\"Air condit...</td>\n",
       "      <td>5</td>\n",
       "      <td>1.000</td>\n",
       "      <td>Real Bed</td>\n",
       "      <td>moderate</td>\n",
       "      <td>True</td>\n",
       "      <td>...</td>\n",
       "      <td>40.808</td>\n",
       "      <td>-73.944</td>\n",
       "      <td>The Garden Oasis</td>\n",
       "      <td>Harlem</td>\n",
       "      <td>10</td>\n",
       "      <td>92.000</td>\n",
       "      <td>https://a0.muscache.com/im/pictures/6fae5362-9...</td>\n",
       "      <td>10027</td>\n",
       "      <td>1.000</td>\n",
       "      <td>3.000</td>\n",
       "    </tr>\n",
       "    <tr>\n",
       "      <th>3</th>\n",
       "      <td>13418779</td>\n",
       "      <td>6.620</td>\n",
       "      <td>House</td>\n",
       "      <td>Entire home/apt</td>\n",
       "      <td>{TV,\"Cable TV\",Internet,\"Wireless Internet\",Ki...</td>\n",
       "      <td>4</td>\n",
       "      <td>1.000</td>\n",
       "      <td>Real Bed</td>\n",
       "      <td>flexible</td>\n",
       "      <td>True</td>\n",
       "      <td>...</td>\n",
       "      <td>37.772</td>\n",
       "      <td>-122.432</td>\n",
       "      <td>Beautiful Flat in the Heart of SF!</td>\n",
       "      <td>Lower Haight</td>\n",
       "      <td>0</td>\n",
       "      <td>nan</td>\n",
       "      <td>https://a0.muscache.com/im/pictures/72208dad-9...</td>\n",
       "      <td>94117.0</td>\n",
       "      <td>2.000</td>\n",
       "      <td>2.000</td>\n",
       "    </tr>\n",
       "    <tr>\n",
       "      <th>4</th>\n",
       "      <td>3808709</td>\n",
       "      <td>4.745</td>\n",
       "      <td>Apartment</td>\n",
       "      <td>Entire home/apt</td>\n",
       "      <td>{TV,Internet,\"Wireless Internet\",\"Air conditio...</td>\n",
       "      <td>2</td>\n",
       "      <td>1.000</td>\n",
       "      <td>Real Bed</td>\n",
       "      <td>moderate</td>\n",
       "      <td>True</td>\n",
       "      <td>...</td>\n",
       "      <td>38.926</td>\n",
       "      <td>-77.035</td>\n",
       "      <td>Great studio in midtown DC</td>\n",
       "      <td>Columbia Heights</td>\n",
       "      <td>4</td>\n",
       "      <td>40.000</td>\n",
       "      <td>NaN</td>\n",
       "      <td>20009</td>\n",
       "      <td>0.000</td>\n",
       "      <td>1.000</td>\n",
       "    </tr>\n",
       "  </tbody>\n",
       "</table>\n",
       "<p>5 rows × 29 columns</p>\n",
       "</div>"
      ],
      "text/plain": [
       "         id  log_price property_type        room_type  \\\n",
       "0   6901257      5.011     Apartment  Entire home/apt   \n",
       "1   6304928      5.130     Apartment  Entire home/apt   \n",
       "2   7919400      4.977     Apartment  Entire home/apt   \n",
       "3  13418779      6.620         House  Entire home/apt   \n",
       "4   3808709      4.745     Apartment  Entire home/apt   \n",
       "\n",
       "                                           amenities  accommodates  bathrooms  \\\n",
       "0  {\"Wireless Internet\",\"Air conditioning\",Kitche...             3      1.000   \n",
       "1  {\"Wireless Internet\",\"Air conditioning\",Kitche...             7      1.000   \n",
       "2  {TV,\"Cable TV\",\"Wireless Internet\",\"Air condit...             5      1.000   \n",
       "3  {TV,\"Cable TV\",Internet,\"Wireless Internet\",Ki...             4      1.000   \n",
       "4  {TV,Internet,\"Wireless Internet\",\"Air conditio...             2      1.000   \n",
       "\n",
       "   bed_type cancellation_policy  cleaning_fee  ... latitude longitude  \\\n",
       "0  Real Bed              strict          True  ...   40.697   -73.992   \n",
       "1  Real Bed              strict          True  ...   40.766   -73.989   \n",
       "2  Real Bed            moderate          True  ...   40.808   -73.944   \n",
       "3  Real Bed            flexible          True  ...   37.772  -122.432   \n",
       "4  Real Bed            moderate          True  ...   38.926   -77.035   \n",
       "\n",
       "                                       name     neighbourhood  \\\n",
       "0            Beautiful brownstone 1-bedroom  Brooklyn Heights   \n",
       "1  Superb 3BR Apt Located Near Times Square    Hell's Kitchen   \n",
       "2                          The Garden Oasis            Harlem   \n",
       "3        Beautiful Flat in the Heart of SF!      Lower Haight   \n",
       "4                Great studio in midtown DC  Columbia Heights   \n",
       "\n",
       "  number_of_reviews review_scores_rating  \\\n",
       "0                 2              100.000   \n",
       "1                 6               93.000   \n",
       "2                10               92.000   \n",
       "3                 0                  nan   \n",
       "4                 4               40.000   \n",
       "\n",
       "                                       thumbnail_url  zipcode bedrooms  beds  \n",
       "0  https://a0.muscache.com/im/pictures/6d7cbbf7-c...    11201    1.000 1.000  \n",
       "1  https://a0.muscache.com/im/pictures/348a55fe-4...    10019    3.000 3.000  \n",
       "2  https://a0.muscache.com/im/pictures/6fae5362-9...    10027    1.000 3.000  \n",
       "3  https://a0.muscache.com/im/pictures/72208dad-9...  94117.0    2.000 2.000  \n",
       "4                                                NaN    20009    0.000 1.000  \n",
       "\n",
       "[5 rows x 29 columns]"
      ]
     },
     "execution_count": 1,
     "metadata": {},
     "output_type": "execute_result"
    }
   ],
   "source": [
    "import numpy as np\n",
    "import pandas as pd\n",
    "import seaborn as sns\n",
    "import scipy.stats as stats\n",
    "from scipy.stats import norm\n",
    "import statsmodels.api as sm\n",
    "import matplotlib.pyplot as plt\n",
    "from scipy.stats import skew\n",
    "from sklearn.model_selection import train_test_split\n",
    "from sklearn.metrics import mean_absolute_error\n",
    "from statsmodels.tools.eval_measures import mse, rmse\n",
    "from sklearn import linear_model\n",
    "\n",
    "%matplotlib inline\n",
    "pd.options.display.float_format = '{:.3f}'.format\n",
    "\n",
    "import warnings\n",
    "warnings.filterwarnings(action=\"ignore\")\n",
    "\n",
    "df=pd.read_csv(\"train.csv\")\n",
    "df.head()"
   ]
  },
  {
   "cell_type": "code",
   "execution_count": 2,
   "metadata": {},
   "outputs": [
    {
     "data": {
      "text/plain": [
       "(74111, 29)"
      ]
     },
     "metadata": {},
     "output_type": "display_data"
    },
    {
     "data": {
      "text/plain": [
       "Index(['id', 'log_price', 'property_type', 'room_type', 'amenities',\n",
       "       'accommodates', 'bathrooms', 'bed_type', 'cancellation_policy',\n",
       "       'cleaning_fee', 'city', 'description', 'first_review',\n",
       "       'host_has_profile_pic', 'host_identity_verified', 'host_response_rate',\n",
       "       'host_since', 'instant_bookable', 'last_review', 'latitude',\n",
       "       'longitude', 'name', 'neighbourhood', 'number_of_reviews',\n",
       "       'review_scores_rating', 'thumbnail_url', 'zipcode', 'bedrooms', 'beds'],\n",
       "      dtype='object')"
      ]
     },
     "metadata": {},
     "output_type": "display_data"
    }
   ],
   "source": [
    "display(df.shape)\n",
    "display(df.columns)"
   ]
  },
  {
   "cell_type": "code",
   "execution_count": 3,
   "metadata": {},
   "outputs": [
    {
     "data": {
      "text/html": [
       "<div>\n",
       "<style scoped>\n",
       "    .dataframe tbody tr th:only-of-type {\n",
       "        vertical-align: middle;\n",
       "    }\n",
       "\n",
       "    .dataframe tbody tr th {\n",
       "        vertical-align: top;\n",
       "    }\n",
       "\n",
       "    .dataframe thead th {\n",
       "        text-align: right;\n",
       "    }\n",
       "</style>\n",
       "<table border=\"1\" class=\"dataframe\">\n",
       "  <thead>\n",
       "    <tr style=\"text-align: right;\">\n",
       "      <th></th>\n",
       "      <th>id</th>\n",
       "      <th>log_price</th>\n",
       "      <th>accommodates</th>\n",
       "      <th>bathrooms</th>\n",
       "      <th>latitude</th>\n",
       "      <th>longitude</th>\n",
       "      <th>number_of_reviews</th>\n",
       "      <th>review_scores_rating</th>\n",
       "      <th>bedrooms</th>\n",
       "      <th>beds</th>\n",
       "    </tr>\n",
       "  </thead>\n",
       "  <tbody>\n",
       "    <tr>\n",
       "      <th>count</th>\n",
       "      <td>74111.000</td>\n",
       "      <td>74111.000</td>\n",
       "      <td>74111.000</td>\n",
       "      <td>73911.000</td>\n",
       "      <td>74111.000</td>\n",
       "      <td>74111.000</td>\n",
       "      <td>74111.000</td>\n",
       "      <td>57389.000</td>\n",
       "      <td>74020.000</td>\n",
       "      <td>73980.000</td>\n",
       "    </tr>\n",
       "    <tr>\n",
       "      <th>mean</th>\n",
       "      <td>11266617.102</td>\n",
       "      <td>4.782</td>\n",
       "      <td>3.155</td>\n",
       "      <td>1.235</td>\n",
       "      <td>38.446</td>\n",
       "      <td>-92.398</td>\n",
       "      <td>20.901</td>\n",
       "      <td>94.067</td>\n",
       "      <td>1.266</td>\n",
       "      <td>1.711</td>\n",
       "    </tr>\n",
       "    <tr>\n",
       "      <th>std</th>\n",
       "      <td>6081734.887</td>\n",
       "      <td>0.717</td>\n",
       "      <td>2.154</td>\n",
       "      <td>0.582</td>\n",
       "      <td>3.080</td>\n",
       "      <td>21.705</td>\n",
       "      <td>37.829</td>\n",
       "      <td>7.837</td>\n",
       "      <td>0.852</td>\n",
       "      <td>1.254</td>\n",
       "    </tr>\n",
       "    <tr>\n",
       "      <th>min</th>\n",
       "      <td>344.000</td>\n",
       "      <td>0.000</td>\n",
       "      <td>1.000</td>\n",
       "      <td>0.000</td>\n",
       "      <td>33.339</td>\n",
       "      <td>-122.511</td>\n",
       "      <td>0.000</td>\n",
       "      <td>20.000</td>\n",
       "      <td>0.000</td>\n",
       "      <td>0.000</td>\n",
       "    </tr>\n",
       "    <tr>\n",
       "      <th>25%</th>\n",
       "      <td>6261964.500</td>\n",
       "      <td>4.317</td>\n",
       "      <td>2.000</td>\n",
       "      <td>1.000</td>\n",
       "      <td>34.128</td>\n",
       "      <td>-118.342</td>\n",
       "      <td>1.000</td>\n",
       "      <td>92.000</td>\n",
       "      <td>1.000</td>\n",
       "      <td>1.000</td>\n",
       "    </tr>\n",
       "    <tr>\n",
       "      <th>50%</th>\n",
       "      <td>12254147.000</td>\n",
       "      <td>4.710</td>\n",
       "      <td>2.000</td>\n",
       "      <td>1.000</td>\n",
       "      <td>40.662</td>\n",
       "      <td>-76.997</td>\n",
       "      <td>6.000</td>\n",
       "      <td>96.000</td>\n",
       "      <td>1.000</td>\n",
       "      <td>1.000</td>\n",
       "    </tr>\n",
       "    <tr>\n",
       "      <th>75%</th>\n",
       "      <td>16402260.500</td>\n",
       "      <td>5.220</td>\n",
       "      <td>4.000</td>\n",
       "      <td>1.000</td>\n",
       "      <td>40.746</td>\n",
       "      <td>-73.955</td>\n",
       "      <td>23.000</td>\n",
       "      <td>100.000</td>\n",
       "      <td>1.000</td>\n",
       "      <td>2.000</td>\n",
       "    </tr>\n",
       "    <tr>\n",
       "      <th>max</th>\n",
       "      <td>21230903.000</td>\n",
       "      <td>7.600</td>\n",
       "      <td>16.000</td>\n",
       "      <td>8.000</td>\n",
       "      <td>42.390</td>\n",
       "      <td>-70.985</td>\n",
       "      <td>605.000</td>\n",
       "      <td>100.000</td>\n",
       "      <td>10.000</td>\n",
       "      <td>18.000</td>\n",
       "    </tr>\n",
       "  </tbody>\n",
       "</table>\n",
       "</div>"
      ],
      "text/plain": [
       "                id  log_price  accommodates  bathrooms  latitude  longitude  \\\n",
       "count    74111.000  74111.000     74111.000  73911.000 74111.000  74111.000   \n",
       "mean  11266617.102      4.782         3.155      1.235    38.446    -92.398   \n",
       "std    6081734.887      0.717         2.154      0.582     3.080     21.705   \n",
       "min        344.000      0.000         1.000      0.000    33.339   -122.511   \n",
       "25%    6261964.500      4.317         2.000      1.000    34.128   -118.342   \n",
       "50%   12254147.000      4.710         2.000      1.000    40.662    -76.997   \n",
       "75%   16402260.500      5.220         4.000      1.000    40.746    -73.955   \n",
       "max   21230903.000      7.600        16.000      8.000    42.390    -70.985   \n",
       "\n",
       "       number_of_reviews  review_scores_rating  bedrooms      beds  \n",
       "count          74111.000             57389.000 74020.000 73980.000  \n",
       "mean              20.901                94.067     1.266     1.711  \n",
       "std               37.829                 7.837     0.852     1.254  \n",
       "min                0.000                20.000     0.000     0.000  \n",
       "25%                1.000                92.000     1.000     1.000  \n",
       "50%                6.000                96.000     1.000     1.000  \n",
       "75%               23.000               100.000     1.000     2.000  \n",
       "max              605.000               100.000    10.000    18.000  "
      ]
     },
     "execution_count": 3,
     "metadata": {},
     "output_type": "execute_result"
    }
   ],
   "source": [
    "df.describe()"
   ]
  },
  {
   "cell_type": "code",
   "execution_count": 4,
   "metadata": {},
   "outputs": [
    {
     "name": "stdout",
     "output_type": "stream",
     "text": [
      "<class 'pandas.core.frame.DataFrame'>\n",
      "RangeIndex: 74111 entries, 0 to 74110\n",
      "Data columns (total 29 columns):\n",
      " #   Column                  Non-Null Count  Dtype  \n",
      "---  ------                  --------------  -----  \n",
      " 0   id                      74111 non-null  int64  \n",
      " 1   log_price               74111 non-null  float64\n",
      " 2   property_type           74111 non-null  object \n",
      " 3   room_type               74111 non-null  object \n",
      " 4   amenities               74111 non-null  object \n",
      " 5   accommodates            74111 non-null  int64  \n",
      " 6   bathrooms               73911 non-null  float64\n",
      " 7   bed_type                74111 non-null  object \n",
      " 8   cancellation_policy     74111 non-null  object \n",
      " 9   cleaning_fee            74111 non-null  bool   \n",
      " 10  city                    74111 non-null  object \n",
      " 11  description             74111 non-null  object \n",
      " 12  first_review            58247 non-null  object \n",
      " 13  host_has_profile_pic    73923 non-null  object \n",
      " 14  host_identity_verified  73923 non-null  object \n",
      " 15  host_response_rate      55812 non-null  object \n",
      " 16  host_since              73923 non-null  object \n",
      " 17  instant_bookable        74111 non-null  object \n",
      " 18  last_review             58284 non-null  object \n",
      " 19  latitude                74111 non-null  float64\n",
      " 20  longitude               74111 non-null  float64\n",
      " 21  name                    74111 non-null  object \n",
      " 22  neighbourhood           67239 non-null  object \n",
      " 23  number_of_reviews       74111 non-null  int64  \n",
      " 24  review_scores_rating    57389 non-null  float64\n",
      " 25  thumbnail_url           65895 non-null  object \n",
      " 26  zipcode                 73145 non-null  object \n",
      " 27  bedrooms                74020 non-null  float64\n",
      " 28  beds                    73980 non-null  float64\n",
      "dtypes: bool(1), float64(7), int64(3), object(18)\n",
      "memory usage: 15.9+ MB\n"
     ]
    }
   ],
   "source": [
    "df.info()"
   ]
  },
  {
   "cell_type": "code",
   "execution_count": 5,
   "metadata": {},
   "outputs": [
    {
     "data": {
      "text/plain": [
       "<AxesSubplot:>"
      ]
     },
     "execution_count": 5,
     "metadata": {},
     "output_type": "execute_result"
    },
    {
     "data": {
      "image/png": "[encoded data removed]",
      "text/plain": [
       "<Figure size 1440x576 with 2 Axes>"
      ]
     },
     "metadata": {
      "needs_background": "light"
     },
     "output_type": "display_data"
    }
   ],
   "source": [
    "plt.figure(figsize=(20,8))\n",
    "sns.heatmap(df.isnull())"
   ]
  },
  {
   "cell_type": "code",
   "execution_count": 6,
   "metadata": {},
   "outputs": [
    {
     "data": {
      "text/html": [
       "<div>\n",
       "<style scoped>\n",
       "    .dataframe tbody tr th:only-of-type {\n",
       "        vertical-align: middle;\n",
       "    }\n",
       "\n",
       "    .dataframe tbody tr th {\n",
       "        vertical-align: top;\n",
       "    }\n",
       "\n",
       "    .dataframe thead th {\n",
       "        text-align: right;\n",
       "    }\n",
       "</style>\n",
       "<table border=\"1\" class=\"dataframe\">\n",
       "  <thead>\n",
       "    <tr style=\"text-align: right;\">\n",
       "      <th></th>\n",
       "      <th>log_price</th>\n",
       "      <th>property_type</th>\n",
       "      <th>room_type</th>\n",
       "      <th>amenities</th>\n",
       "      <th>accommodates</th>\n",
       "      <th>bathrooms</th>\n",
       "      <th>bed_type</th>\n",
       "      <th>cancellation_policy</th>\n",
       "      <th>cleaning_fee</th>\n",
       "      <th>city</th>\n",
       "      <th>...</th>\n",
       "      <th>host_since</th>\n",
       "      <th>instant_bookable</th>\n",
       "      <th>latitude</th>\n",
       "      <th>longitude</th>\n",
       "      <th>neighbourhood</th>\n",
       "      <th>number_of_reviews</th>\n",
       "      <th>review_scores_rating</th>\n",
       "      <th>zipcode</th>\n",
       "      <th>bedrooms</th>\n",
       "      <th>beds</th>\n",
       "    </tr>\n",
       "  </thead>\n",
       "  <tbody>\n",
       "    <tr>\n",
       "      <th>0</th>\n",
       "      <td>5.011</td>\n",
       "      <td>Apartment</td>\n",
       "      <td>Entire home/apt</td>\n",
       "      <td>{\"Wireless Internet\",\"Air conditioning\",Kitche...</td>\n",
       "      <td>3</td>\n",
       "      <td>1.000</td>\n",
       "      <td>Real Bed</td>\n",
       "      <td>strict</td>\n",
       "      <td>True</td>\n",
       "      <td>NYC</td>\n",
       "      <td>...</td>\n",
       "      <td>2012-03-26</td>\n",
       "      <td>f</td>\n",
       "      <td>40.697</td>\n",
       "      <td>-73.992</td>\n",
       "      <td>Brooklyn Heights</td>\n",
       "      <td>2</td>\n",
       "      <td>100.000</td>\n",
       "      <td>11201</td>\n",
       "      <td>1.000</td>\n",
       "      <td>1.000</td>\n",
       "    </tr>\n",
       "    <tr>\n",
       "      <th>1</th>\n",
       "      <td>5.130</td>\n",
       "      <td>Apartment</td>\n",
       "      <td>Entire home/apt</td>\n",
       "      <td>{\"Wireless Internet\",\"Air conditioning\",Kitche...</td>\n",
       "      <td>7</td>\n",
       "      <td>1.000</td>\n",
       "      <td>Real Bed</td>\n",
       "      <td>strict</td>\n",
       "      <td>True</td>\n",
       "      <td>NYC</td>\n",
       "      <td>...</td>\n",
       "      <td>2017-06-19</td>\n",
       "      <td>t</td>\n",
       "      <td>40.766</td>\n",
       "      <td>-73.989</td>\n",
       "      <td>Hell's Kitchen</td>\n",
       "      <td>6</td>\n",
       "      <td>93.000</td>\n",
       "      <td>10019</td>\n",
       "      <td>3.000</td>\n",
       "      <td>3.000</td>\n",
       "    </tr>\n",
       "  </tbody>\n",
       "</table>\n",
       "<p>2 rows × 23 columns</p>\n",
       "</div>"
      ],
      "text/plain": [
       "   log_price property_type        room_type  \\\n",
       "0      5.011     Apartment  Entire home/apt   \n",
       "1      5.130     Apartment  Entire home/apt   \n",
       "\n",
       "                                           amenities  accommodates  bathrooms  \\\n",
       "0  {\"Wireless Internet\",\"Air conditioning\",Kitche...             3      1.000   \n",
       "1  {\"Wireless Internet\",\"Air conditioning\",Kitche...             7      1.000   \n",
       "\n",
       "   bed_type cancellation_policy  cleaning_fee city  ...  host_since  \\\n",
       "0  Real Bed              strict          True  NYC  ...  2012-03-26   \n",
       "1  Real Bed              strict          True  NYC  ...  2017-06-19   \n",
       "\n",
       "  instant_bookable latitude longitude     neighbourhood  number_of_reviews  \\\n",
       "0                f   40.697   -73.992  Brooklyn Heights                  2   \n",
       "1                t   40.766   -73.989    Hell's Kitchen                  6   \n",
       "\n",
       "   review_scores_rating zipcode  bedrooms  beds  \n",
       "0               100.000   11201     1.000 1.000  \n",
       "1                93.000   10019     3.000 3.000  \n",
       "\n",
       "[2 rows x 23 columns]"
      ]
     },
     "execution_count": 6,
     "metadata": {},
     "output_type": "execute_result"
    }
   ],
   "source": [
    "bos = [\"description\", \"first_review\", \"last_review\", \"name\", \"thumbnail_url\"]\n",
    "df = df.drop(bos, axis=1)\n",
    "df = df.drop('id', axis=1)\n",
    "df.head(2)"
   ]
  },
  {
   "cell_type": "code",
   "execution_count": 7,
   "metadata": {},
   "outputs": [
    {
     "data": {
      "text/plain": [
       "array(['t', nan, 'f'], dtype=object)"
      ]
     },
     "execution_count": 7,
     "metadata": {},
     "output_type": "execute_result"
    }
   ],
   "source": [
    "df.host_has_profile_pic.unique()"
   ]
  },
  {
   "cell_type": "code",
   "execution_count": 8,
   "metadata": {},
   "outputs": [
    {
     "data": {
      "text/plain": [
       "array(['t', 'f', nan], dtype=object)"
      ]
     },
     "execution_count": 8,
     "metadata": {},
     "output_type": "execute_result"
    }
   ],
   "source": [
    "df.host_identity_verified.unique()"
   ]
  },
  {
   "cell_type": "code",
   "execution_count": 9,
   "metadata": {},
   "outputs": [
    {
     "data": {
      "text/plain": [
       "array([nan, '100%', '71%', '68%', '67%', '83%', '50%', '90%', '86%',\n",
       "       '92%', '82%', '80%', '89%', '93%', '99%', '0%', '88%', '96%',\n",
       "       '70%', '94%', '91%', '25%', '95%', '98%', '62%', '29%', '33%',\n",
       "       '81%', '63%', '38%', '60%', '79%', '78%', '75%', '65%', '97%',\n",
       "       '87%', '40%', '54%', '53%', '58%', '76%', '30%', '64%', '17%',\n",
       "       '20%', '77%', '73%', '41%', '59%', '57%', '85%', '56%', '42%',\n",
       "       '44%', '35%', '14%', '74%', '27%', '10%', '84%', '6%', '72%',\n",
       "       '36%', '55%', '43%', '13%', '39%', '46%', '26%', '61%', '52%',\n",
       "       '23%', '22%', '69%', '66%', '15%', '11%', '31%', '21%', '47%'],\n",
       "      dtype=object)"
      ]
     },
     "execution_count": 9,
     "metadata": {},
     "output_type": "execute_result"
    }
   ],
   "source": [
    "df.host_response_rate.unique()"
   ]
  },
  {
   "cell_type": "code",
   "execution_count": 10,
   "metadata": {},
   "outputs": [],
   "source": [
    "df['host_response_rate'] = df.host_response_rate.str.replace('%','')"
   ]
  },
  {
   "cell_type": "code",
   "execution_count": 11,
   "metadata": {},
   "outputs": [],
   "source": [
    "df['host_response_rate'] = pd.to_numeric(df['host_response_rate'])"
   ]
  },
  {
   "cell_type": "code",
   "execution_count": 12,
   "metadata": {},
   "outputs": [
    {
     "data": {
      "text/plain": [
       "array([100.,  93.,  92.,  nan,  40.,  97.,  99.,  90.,  89.,  91.,  88.,\n",
       "        86.,  72.,  98.,  95.,  96.,  84.,  80.,  94.,  87.,  85.,  70.,\n",
       "        60.,  75.,  20.,  76.,  83.,  82.,  78.,  73.,  55.,  81.,  67.,\n",
       "        71.,  77.,  79.,  47.,  74.,  68.,  66.,  63.,  50.,  53.,  65.,\n",
       "        64.,  27.,  69.,  30.,  58.,  35.,  62.,  49.,  57.,  54.,  56.])"
      ]
     },
     "execution_count": 12,
     "metadata": {},
     "output_type": "execute_result"
    }
   ],
   "source": [
    "df.review_scores_rating.unique()"
   ]
  },
  {
   "cell_type": "code",
   "execution_count": 13,
   "metadata": {},
   "outputs": [
    {
     "data": {
      "text/plain": [
       "array([ 1.,  3.,  2.,  0.,  4., nan,  5.,  6.,  7.,  8.,  9., 10.])"
      ]
     },
     "execution_count": 13,
     "metadata": {},
     "output_type": "execute_result"
    }
   ],
   "source": [
    "df.bedrooms.unique()"
   ]
  },
  {
   "cell_type": "code",
   "execution_count": 14,
   "metadata": {},
   "outputs": [
    {
     "data": {
      "text/plain": [
       "array([ 1.,  3.,  2.,  7.,  4.,  6.,  5., nan, 10.,  8., 16.,  9., 13.,\n",
       "       12., 11., 14., 15.,  0., 18.])"
      ]
     },
     "execution_count": 14,
     "metadata": {},
     "output_type": "execute_result"
    }
   ],
   "source": [
    "df.beds.unique()"
   ]
  },
  {
   "cell_type": "code",
   "execution_count": 15,
   "metadata": {},
   "outputs": [],
   "source": [
    "df['host_since'] = pd.to_datetime(df['host_since'])"
   ]
  },
  {
   "cell_type": "code",
   "execution_count": 16,
   "metadata": {},
   "outputs": [
    {
     "data": {
      "text/plain": [
       "array(['2012-03-26T00:00:00.000000000', '2017-06-19T00:00:00.000000000',\n",
       "       '2016-10-25T00:00:00.000000000', ...,\n",
       "       '2008-03-03T00:00:00.000000000', '2010-04-30T00:00:00.000000000',\n",
       "       '2009-08-23T00:00:00.000000000'], dtype='datetime64[ns]')"
      ]
     },
     "execution_count": 16,
     "metadata": {},
     "output_type": "execute_result"
    }
   ],
   "source": [
    "df.host_since.unique()"
   ]
  },
  {
   "cell_type": "code",
   "execution_count": 17,
   "metadata": {},
   "outputs": [],
   "source": [
    "df['property_type'] = df['property_type'].astype('category')\n",
    "df['room_type'] = df['room_type'].astype('category')\n",
    "df['bed_type'] = df['bed_type'].astype('category')\n",
    "df['cancellation_policy'] = df['cancellation_policy'].astype('category')\n",
    "df['city'] = df['city'].astype('category')\n",
    "df['host_has_profile_pic'] = df['host_has_profile_pic'].astype('bool')\n",
    "df['host_identity_verified'] = df['host_identity_verified'].astype('bool')\n",
    "df['instant_bookable'] = df['instant_bookable'].astype('bool')\n",
    "df['neighbourhood'] = df['neighbourhood'].astype('category')\n",
    "df['zipcode'] = df['zipcode'].astype('category')"
   ]
  },
  {
   "cell_type": "code",
   "execution_count": 18,
   "metadata": {},
   "outputs": [
    {
     "name": "stdout",
     "output_type": "stream",
     "text": [
      "<class 'pandas.core.frame.DataFrame'>\n",
      "RangeIndex: 74111 entries, 0 to 74110\n",
      "Data columns (total 23 columns):\n",
      " #   Column                  Non-Null Count  Dtype         \n",
      "---  ------                  --------------  -----         \n",
      " 0   log_price               74111 non-null  float64       \n",
      " 1   property_type           74111 non-null  category      \n",
      " 2   room_type               74111 non-null  category      \n",
      " 3   amenities               74111 non-null  object        \n",
      " 4   accommodates            74111 non-null  int64         \n",
      " 5   bathrooms               73911 non-null  float64       \n",
      " 6   bed_type                74111 non-null  category      \n",
      " 7   cancellation_policy     74111 non-null  category      \n",
      " 8   cleaning_fee            74111 non-null  bool          \n",
      " 9   city                    74111 non-null  category      \n",
      " 10  host_has_profile_pic    74111 non-null  bool          \n",
      " 11  host_identity_verified  74111 non-null  bool          \n",
      " 12  host_response_rate      55812 non-null  float64       \n",
      " 13  host_since              73923 non-null  datetime64[ns]\n",
      " 14  instant_bookable        74111 non-null  bool          \n",
      " 15  latitude                74111 non-null  float64       \n",
      " 16  longitude               74111 non-null  float64       \n",
      " 17  neighbourhood           67239 non-null  category      \n",
      " 18  number_of_reviews       74111 non-null  int64         \n",
      " 19  review_scores_rating    57389 non-null  float64       \n",
      " 20  zipcode                 73145 non-null  category      \n",
      " 21  bedrooms                74020 non-null  float64       \n",
      " 22  beds                    73980 non-null  float64       \n",
      "dtypes: bool(4), category(7), datetime64[ns](1), float64(8), int64(2), object(1)\n",
      "memory usage: 7.8+ MB\n"
     ]
    }
   ],
   "source": [
    "df.info()"
   ]
  },
  {
   "cell_type": "code",
   "execution_count": 19,
   "metadata": {},
   "outputs": [],
   "source": [
    "df['host_has_profile_pic'] = df['host_has_profile_pic'].fillna(\"f\")\n",
    "df['host_identity_verified'] = df['host_identity_verified'].fillna(\"f\")\n",
    "df['host_response_rate'] = df['host_response_rate'].fillna((df['host_response_rate'].median()))\n",
    "df['review_scores_rating'] = df['review_scores_rating'].fillna((df['review_scores_rating'].median()))\n",
    "df['bedrooms'] = df['bedrooms'].fillna((df['bedrooms'].median()))\n",
    "df['beds'] = df['beds'].fillna((df['beds'].median()))\n",
    "#neighbourhood, zipcode: later with longitude & latitude"
   ]
  },
  {
   "cell_type": "code",
   "execution_count": 20,
   "metadata": {},
   "outputs": [
    {
     "data": {
      "text/html": [
       "<div>\n",
       "<style scoped>\n",
       "    .dataframe tbody tr th:only-of-type {\n",
       "        vertical-align: middle;\n",
       "    }\n",
       "\n",
       "    .dataframe tbody tr th {\n",
       "        vertical-align: top;\n",
       "    }\n",
       "\n",
       "    .dataframe thead th {\n",
       "        text-align: right;\n",
       "    }\n",
       "</style>\n",
       "<table border=\"1\" class=\"dataframe\">\n",
       "  <thead>\n",
       "    <tr style=\"text-align: right;\">\n",
       "      <th></th>\n",
       "      <th>log_price</th>\n",
       "      <th>accommodates</th>\n",
       "      <th>bathrooms</th>\n",
       "      <th>cleaning_fee</th>\n",
       "      <th>host_has_profile_pic</th>\n",
       "      <th>host_identity_verified</th>\n",
       "      <th>host_response_rate</th>\n",
       "      <th>host_since</th>\n",
       "      <th>instant_bookable</th>\n",
       "      <th>latitude</th>\n",
       "      <th>...</th>\n",
       "      <th>zipcode_94130</th>\n",
       "      <th>zipcode_94131</th>\n",
       "      <th>zipcode_94132</th>\n",
       "      <th>zipcode_94133</th>\n",
       "      <th>zipcode_94134</th>\n",
       "      <th>zipcode_94158</th>\n",
       "      <th>zipcode_94401</th>\n",
       "      <th>zipcode_95202\\r\\r\\r\\r\\r\\r\\n\\r\\r\\r\\r\\r\\r\\n\\r\\r\\r\\r\\r\\r\\n94158</th>\n",
       "      <th>zipcode_99135</th>\n",
       "      <th>zipcode_Near 91304</th>\n",
       "    </tr>\n",
       "  </thead>\n",
       "  <tbody>\n",
       "    <tr>\n",
       "      <th>0</th>\n",
       "      <td>5.011</td>\n",
       "      <td>3</td>\n",
       "      <td>1.000</td>\n",
       "      <td>True</td>\n",
       "      <td>True</td>\n",
       "      <td>True</td>\n",
       "      <td>100.000</td>\n",
       "      <td>2012-03-26</td>\n",
       "      <td>True</td>\n",
       "      <td>40.697</td>\n",
       "      <td>...</td>\n",
       "      <td>0</td>\n",
       "      <td>0</td>\n",
       "      <td>0</td>\n",
       "      <td>0</td>\n",
       "      <td>0</td>\n",
       "      <td>0</td>\n",
       "      <td>0</td>\n",
       "      <td>0</td>\n",
       "      <td>0</td>\n",
       "      <td>0</td>\n",
       "    </tr>\n",
       "    <tr>\n",
       "      <th>1</th>\n",
       "      <td>5.130</td>\n",
       "      <td>7</td>\n",
       "      <td>1.000</td>\n",
       "      <td>True</td>\n",
       "      <td>True</td>\n",
       "      <td>True</td>\n",
       "      <td>100.000</td>\n",
       "      <td>2017-06-19</td>\n",
       "      <td>True</td>\n",
       "      <td>40.766</td>\n",
       "      <td>...</td>\n",
       "      <td>0</td>\n",
       "      <td>0</td>\n",
       "      <td>0</td>\n",
       "      <td>0</td>\n",
       "      <td>0</td>\n",
       "      <td>0</td>\n",
       "      <td>0</td>\n",
       "      <td>0</td>\n",
       "      <td>0</td>\n",
       "      <td>0</td>\n",
       "    </tr>\n",
       "  </tbody>\n",
       "</table>\n",
       "<p>2 rows × 68571 columns</p>\n",
       "</div>"
      ],
      "text/plain": [
       "   log_price  accommodates  bathrooms  cleaning_fee  host_has_profile_pic  \\\n",
       "0      5.011             3      1.000          True                  True   \n",
       "1      5.130             7      1.000          True                  True   \n",
       "\n",
       "   host_identity_verified  host_response_rate host_since  instant_bookable  \\\n",
       "0                    True             100.000 2012-03-26              True   \n",
       "1                    True             100.000 2017-06-19              True   \n",
       "\n",
       "   latitude  ...  zipcode_94130  zipcode_94131  zipcode_94132  zipcode_94133  \\\n",
       "0    40.697  ...              0              0              0              0   \n",
       "1    40.766  ...              0              0              0              0   \n",
       "\n",
       "   zipcode_94134  zipcode_94158  zipcode_94401  \\\n",
       "0              0              0              0   \n",
       "1              0              0              0   \n",
       "\n",
       "   zipcode_95202\\r\\r\\r\\r\\r\\r\\n\\r\\r\\r\\r\\r\\r\\n\\r\\r\\r\\r\\r\\r\\n94158  \\\n",
       "0                                                  0              \n",
       "1                                                  0              \n",
       "\n",
       "   zipcode_99135  zipcode_Near 91304  \n",
       "0              0                   0  \n",
       "1              0                   0  \n",
       "\n",
       "[2 rows x 68571 columns]"
      ]
     },
     "execution_count": 20,
     "metadata": {},
     "output_type": "execute_result"
    }
   ],
   "source": [
    "df_num = pd.get_dummies(df, drop_first=True)\n",
    "df_num.head(2)"
   ]
  },
  {
   "cell_type": "code",
   "execution_count": 21,
   "metadata": {},
   "outputs": [
    {
     "data": {
      "image/png": "[encoded data removed]",
      "text/plain": [
       "<Figure size 432x288 with 1 Axes>"
      ]
     },
     "metadata": {},
     "output_type": "display_data"
    }
   ],
   "source": [
    "df.dtypes.value_counts().plot.pie()\n",
    "plt.show()"
   ]
  },
  {
   "cell_type": "code",
   "execution_count": 22,
   "metadata": {},
   "outputs": [
    {
     "data": {
      "text/plain": [
       "log_price                   767\n",
       "property_type                35\n",
       "room_type                     3\n",
       "amenities                 67122\n",
       "accommodates                 16\n",
       "bathrooms                    17\n",
       "bed_type                      5\n",
       "cancellation_policy           5\n",
       "cleaning_fee                  2\n",
       "city                          6\n",
       "host_has_profile_pic          1\n",
       "host_identity_verified        1\n",
       "host_response_rate           80\n",
       "host_since                 3087\n",
       "instant_bookable              1\n",
       "latitude                  74111\n",
       "longitude                 74111\n",
       "neighbourhood               619\n",
       "number_of_reviews           371\n",
       "review_scores_rating         54\n",
       "zipcode                     769\n",
       "bedrooms                     11\n",
       "beds                         18\n",
       "dtype: int64"
      ]
     },
     "execution_count": 22,
     "metadata": {},
     "output_type": "execute_result"
    }
   ],
   "source": [
    "df.nunique()"
   ]
  },
  {
   "cell_type": "code",
   "execution_count": 23,
   "metadata": {},
   "outputs": [
    {
     "name": "stdout",
     "output_type": "stream",
     "text": [
      "767 unique values in log_price\n",
      "35 unique values in property_type\n",
      "3 unique values in room_type\n",
      "67122 unique values in amenities\n",
      "16 unique values in accommodates\n",
      "18 unique values in bathrooms\n",
      "5 unique values in bed_type\n",
      "5 unique values in cancellation_policy\n",
      "2 unique values in cleaning_fee\n",
      "6 unique values in city\n",
      "1 unique values in host_has_profile_pic\n",
      "1 unique values in host_identity_verified\n",
      "80 unique values in host_response_rate\n",
      "3088 unique values in host_since\n",
      "1 unique values in instant_bookable\n",
      "74111 unique values in latitude\n",
      "74111 unique values in longitude\n",
      "620 unique values in neighbourhood\n",
      "371 unique values in number_of_reviews\n",
      "54 unique values in review_scores_rating\n",
      "770 unique values in zipcode\n",
      "11 unique values in bedrooms\n",
      "18 unique values in beds\n"
     ]
    }
   ],
   "source": [
    "for col in df.columns:\n",
    "    print('{} unique values in {}'.format(len(df[col].unique()),col))"
   ]
  },
  {
   "cell_type": "code",
   "execution_count": 24,
   "metadata": {},
   "outputs": [
    {
     "data": {
      "text/plain": [
       "neighbourhood    6872\n",
       "zipcode           966\n",
       "bathrooms         200\n",
       "host_since        188\n",
       "dtype: int64"
      ]
     },
     "execution_count": 24,
     "metadata": {},
     "output_type": "execute_result"
    }
   ],
   "source": [
    "nan_values = df.isna().sum().sort_values(ascending=False)\n",
    "cols_drop = nan_values[nan_values > 0]\n",
    "cols_drop"
   ]
  },
  {
   "cell_type": "code",
   "execution_count": 25,
   "metadata": {},
   "outputs": [],
   "source": [
    "#nan_index_1 = df[df['LotFrontage'].isnull()]['LotFrontage'].index[:96]\n",
    "#nan_index_2 = df[df['LotFrontage'].isnull()]['LotFrontage'].index[96:143]\n",
    "#nan_index_3 = df[df['LotFrontage'].isnull()]['LotFrontage'].index[143:190]\n",
    "#nan_index_4 = df[df['LotFrontage'].isnull()]['LotFrontage'].index[190:229]\n",
    "#nan_index_5 = df[df['LotFrontage'].isnull()]['LotFrontage'].index[229:]\n",
    "\n",
    "# fill the NaN values\n",
    "#df.loc[nan_index_1,'LotFrontage'] = 60.0\n",
    "#df.loc[nan_index_2,'LotFrontage'] = 70.0\n",
    "#df.loc[nan_index_3,'LotFrontage'] = 80.0\n",
    "#df.loc[nan_index_4,'LotFrontage'] = 50.0\n",
    "#df.loc[nan_index_5,'LotFrontage'] = 75.0"
   ]
  },
  {
   "cell_type": "code",
   "execution_count": 26,
   "metadata": {},
   "outputs": [
    {
     "data": {
      "image/png": "[encoded data removed]",
      "text/plain": [
       "<Figure size 432x288 with 1 Axes>"
      ]
     },
     "metadata": {
      "needs_background": "light"
     },
     "output_type": "display_data"
    }
   ],
   "source": [
    "plt.hist(df[\"log_price\"])\n",
    "plt.show()"
   ]
  },
  {
   "cell_type": "code",
   "execution_count": 27,
   "metadata": {},
   "outputs": [
    {
     "name": "stdout",
     "output_type": "stream",
     "text": [
      "count   74111.000\n",
      "mean        4.782\n",
      "std         0.717\n",
      "min         0.000\n",
      "25%         4.317\n",
      "50%         4.710\n",
      "75%         5.220\n",
      "max         7.600\n",
      "Name: log_price, dtype: float64\n"
     ]
    }
   ],
   "source": [
    "print(df['log_price'].describe())"
   ]
  },
  {
   "cell_type": "code",
   "execution_count": 28,
   "metadata": {},
   "outputs": [
    {
     "data": {
      "image/png": "[encoded data removed]",
      "text/plain": [
       "<Figure size 864x432 with 1 Axes>"
      ]
     },
     "metadata": {
      "needs_background": "light"
     },
     "output_type": "display_data"
    }
   ],
   "source": [
    "(mu, sigma) = norm.fit(df['log_price'])\n",
    "\n",
    "plt.figure(figsize = (12,6))\n",
    "sns.distplot(df['log_price'], kde = True, hist=True, fit = norm)\n",
    "plt.title('log_price distribution vs Normal Distribution', fontsize = 13)\n",
    "plt.xlabel(\"log_price\", fontsize = 12)\n",
    "plt.legend(['Normal dist. ($\\mu=$ {:.2f} and $\\sigma=$ {:.2f} )'.format(mu, sigma)],\n",
    "            loc='best')\n",
    "plt.show()"
   ]
  },
  {
   "cell_type": "code",
   "execution_count": 29,
   "metadata": {},
   "outputs": [
    {
     "data": {
      "image/png": "[encoded data removed]",
      "text/plain": [
       "<Figure size 432x288 with 1 Axes>"
      ]
     },
     "metadata": {
      "needs_background": "light"
     },
     "output_type": "display_data"
    }
   ],
   "source": [
    "#normal dağılıma getiriyoruz\n",
    "df['log_price'] = np.log1p(df['log_price'])\n",
    "sns.distplot(df['log_price'], fit=norm);"
   ]
  },
  {
   "cell_type": "code",
   "execution_count": 30,
   "metadata": {},
   "outputs": [
    {
     "data": {
      "text/html": [
       "<div>\n",
       "<style scoped>\n",
       "    .dataframe tbody tr th:only-of-type {\n",
       "        vertical-align: middle;\n",
       "    }\n",
       "\n",
       "    .dataframe tbody tr th {\n",
       "        vertical-align: top;\n",
       "    }\n",
       "\n",
       "    .dataframe thead th {\n",
       "        text-align: right;\n",
       "    }\n",
       "</style>\n",
       "<table border=\"1\" class=\"dataframe\">\n",
       "  <thead>\n",
       "    <tr style=\"text-align: right;\">\n",
       "      <th></th>\n",
       "      <th>log_price</th>\n",
       "      <th>accommodates</th>\n",
       "      <th>bathrooms</th>\n",
       "      <th>cleaning_fee</th>\n",
       "      <th>host_has_profile_pic</th>\n",
       "      <th>host_identity_verified</th>\n",
       "      <th>host_response_rate</th>\n",
       "      <th>instant_bookable</th>\n",
       "      <th>latitude</th>\n",
       "      <th>longitude</th>\n",
       "      <th>number_of_reviews</th>\n",
       "      <th>review_scores_rating</th>\n",
       "      <th>bedrooms</th>\n",
       "      <th>beds</th>\n",
       "    </tr>\n",
       "  </thead>\n",
       "  <tbody>\n",
       "    <tr>\n",
       "      <th>log_price</th>\n",
       "      <td>1.000</td>\n",
       "      <td>0.552</td>\n",
       "      <td>0.324</td>\n",
       "      <td>0.121</td>\n",
       "      <td>nan</td>\n",
       "      <td>nan</td>\n",
       "      <td>0.003</td>\n",
       "      <td>nan</td>\n",
       "      <td>0.002</td>\n",
       "      <td>-0.044</td>\n",
       "      <td>-0.023</td>\n",
       "      <td>0.086</td>\n",
       "      <td>0.448</td>\n",
       "      <td>0.422</td>\n",
       "    </tr>\n",
       "    <tr>\n",
       "      <th>accommodates</th>\n",
       "      <td>0.552</td>\n",
       "      <td>1.000</td>\n",
       "      <td>0.506</td>\n",
       "      <td>0.182</td>\n",
       "      <td>nan</td>\n",
       "      <td>nan</td>\n",
       "      <td>0.021</td>\n",
       "      <td>nan</td>\n",
       "      <td>-0.078</td>\n",
       "      <td>-0.085</td>\n",
       "      <td>0.042</td>\n",
       "      <td>-0.021</td>\n",
       "      <td>0.709</td>\n",
       "      <td>0.810</td>\n",
       "    </tr>\n",
       "    <tr>\n",
       "      <th>bathrooms</th>\n",
       "      <td>0.324</td>\n",
       "      <td>0.506</td>\n",
       "      <td>1.000</td>\n",
       "      <td>0.054</td>\n",
       "      <td>nan</td>\n",
       "      <td>nan</td>\n",
       "      <td>-0.003</td>\n",
       "      <td>nan</td>\n",
       "      <td>-0.138</td>\n",
       "      <td>-0.135</td>\n",
       "      <td>-0.041</td>\n",
       "      <td>0.012</td>\n",
       "      <td>0.590</td>\n",
       "      <td>0.526</td>\n",
       "    </tr>\n",
       "    <tr>\n",
       "      <th>cleaning_fee</th>\n",
       "      <td>0.121</td>\n",
       "      <td>0.182</td>\n",
       "      <td>0.054</td>\n",
       "      <td>1.000</td>\n",
       "      <td>nan</td>\n",
       "      <td>nan</td>\n",
       "      <td>0.050</td>\n",
       "      <td>nan</td>\n",
       "      <td>-0.061</td>\n",
       "      <td>-0.069</td>\n",
       "      <td>0.110</td>\n",
       "      <td>-0.001</td>\n",
       "      <td>0.105</td>\n",
       "      <td>0.132</td>\n",
       "    </tr>\n",
       "    <tr>\n",
       "      <th>host_has_profile_pic</th>\n",
       "      <td>nan</td>\n",
       "      <td>nan</td>\n",
       "      <td>nan</td>\n",
       "      <td>nan</td>\n",
       "      <td>nan</td>\n",
       "      <td>nan</td>\n",
       "      <td>nan</td>\n",
       "      <td>nan</td>\n",
       "      <td>nan</td>\n",
       "      <td>nan</td>\n",
       "      <td>nan</td>\n",
       "      <td>nan</td>\n",
       "      <td>nan</td>\n",
       "      <td>nan</td>\n",
       "    </tr>\n",
       "    <tr>\n",
       "      <th>host_identity_verified</th>\n",
       "      <td>nan</td>\n",
       "      <td>nan</td>\n",
       "      <td>nan</td>\n",
       "      <td>nan</td>\n",
       "      <td>nan</td>\n",
       "      <td>nan</td>\n",
       "      <td>nan</td>\n",
       "      <td>nan</td>\n",
       "      <td>nan</td>\n",
       "      <td>nan</td>\n",
       "      <td>nan</td>\n",
       "      <td>nan</td>\n",
       "      <td>nan</td>\n",
       "      <td>nan</td>\n",
       "    </tr>\n",
       "    <tr>\n",
       "      <th>host_response_rate</th>\n",
       "      <td>0.003</td>\n",
       "      <td>0.021</td>\n",
       "      <td>-0.003</td>\n",
       "      <td>0.050</td>\n",
       "      <td>nan</td>\n",
       "      <td>nan</td>\n",
       "      <td>1.000</td>\n",
       "      <td>nan</td>\n",
       "      <td>0.020</td>\n",
       "      <td>0.001</td>\n",
       "      <td>0.072</td>\n",
       "      <td>0.047</td>\n",
       "      <td>0.009</td>\n",
       "      <td>0.019</td>\n",
       "    </tr>\n",
       "    <tr>\n",
       "      <th>instant_bookable</th>\n",
       "      <td>nan</td>\n",
       "      <td>nan</td>\n",
       "      <td>nan</td>\n",
       "      <td>nan</td>\n",
       "      <td>nan</td>\n",
       "      <td>nan</td>\n",
       "      <td>nan</td>\n",
       "      <td>nan</td>\n",
       "      <td>nan</td>\n",
       "      <td>nan</td>\n",
       "      <td>nan</td>\n",
       "      <td>nan</td>\n",
       "      <td>nan</td>\n",
       "      <td>nan</td>\n",
       "    </tr>\n",
       "    <tr>\n",
       "      <th>latitude</th>\n",
       "      <td>0.002</td>\n",
       "      <td>-0.078</td>\n",
       "      <td>-0.138</td>\n",
       "      <td>-0.061</td>\n",
       "      <td>nan</td>\n",
       "      <td>nan</td>\n",
       "      <td>0.020</td>\n",
       "      <td>nan</td>\n",
       "      <td>1.000</td>\n",
       "      <td>0.896</td>\n",
       "      <td>-0.018</td>\n",
       "      <td>-0.032</td>\n",
       "      <td>-0.059</td>\n",
       "      <td>-0.080</td>\n",
       "    </tr>\n",
       "    <tr>\n",
       "      <th>longitude</th>\n",
       "      <td>-0.044</td>\n",
       "      <td>-0.085</td>\n",
       "      <td>-0.135</td>\n",
       "      <td>-0.069</td>\n",
       "      <td>nan</td>\n",
       "      <td>nan</td>\n",
       "      <td>0.001</td>\n",
       "      <td>nan</td>\n",
       "      <td>0.896</td>\n",
       "      <td>1.000</td>\n",
       "      <td>-0.050</td>\n",
       "      <td>-0.043</td>\n",
       "      <td>-0.076</td>\n",
       "      <td>-0.082</td>\n",
       "    </tr>\n",
       "    <tr>\n",
       "      <th>number_of_reviews</th>\n",
       "      <td>-0.023</td>\n",
       "      <td>0.042</td>\n",
       "      <td>-0.041</td>\n",
       "      <td>0.110</td>\n",
       "      <td>nan</td>\n",
       "      <td>nan</td>\n",
       "      <td>0.072</td>\n",
       "      <td>nan</td>\n",
       "      <td>-0.018</td>\n",
       "      <td>-0.050</td>\n",
       "      <td>1.000</td>\n",
       "      <td>-0.023</td>\n",
       "      <td>-0.035</td>\n",
       "      <td>0.032</td>\n",
       "    </tr>\n",
       "    <tr>\n",
       "      <th>review_scores_rating</th>\n",
       "      <td>0.086</td>\n",
       "      <td>-0.021</td>\n",
       "      <td>0.012</td>\n",
       "      <td>-0.001</td>\n",
       "      <td>nan</td>\n",
       "      <td>nan</td>\n",
       "      <td>0.047</td>\n",
       "      <td>nan</td>\n",
       "      <td>-0.032</td>\n",
       "      <td>-0.043</td>\n",
       "      <td>-0.023</td>\n",
       "      <td>1.000</td>\n",
       "      <td>0.011</td>\n",
       "      <td>-0.029</td>\n",
       "    </tr>\n",
       "    <tr>\n",
       "      <th>bedrooms</th>\n",
       "      <td>0.448</td>\n",
       "      <td>0.709</td>\n",
       "      <td>0.590</td>\n",
       "      <td>0.105</td>\n",
       "      <td>nan</td>\n",
       "      <td>nan</td>\n",
       "      <td>0.009</td>\n",
       "      <td>nan</td>\n",
       "      <td>-0.059</td>\n",
       "      <td>-0.076</td>\n",
       "      <td>-0.035</td>\n",
       "      <td>0.011</td>\n",
       "      <td>1.000</td>\n",
       "      <td>0.709</td>\n",
       "    </tr>\n",
       "    <tr>\n",
       "      <th>beds</th>\n",
       "      <td>0.422</td>\n",
       "      <td>0.810</td>\n",
       "      <td>0.526</td>\n",
       "      <td>0.132</td>\n",
       "      <td>nan</td>\n",
       "      <td>nan</td>\n",
       "      <td>0.019</td>\n",
       "      <td>nan</td>\n",
       "      <td>-0.080</td>\n",
       "      <td>-0.082</td>\n",
       "      <td>0.032</td>\n",
       "      <td>-0.029</td>\n",
       "      <td>0.709</td>\n",
       "      <td>1.000</td>\n",
       "    </tr>\n",
       "  </tbody>\n",
       "</table>\n",
       "</div>"
      ],
      "text/plain": [
       "                        log_price  accommodates  bathrooms  cleaning_fee  \\\n",
       "log_price                   1.000         0.552      0.324         0.121   \n",
       "accommodates                0.552         1.000      0.506         0.182   \n",
       "bathrooms                   0.324         0.506      1.000         0.054   \n",
       "cleaning_fee                0.121         0.182      0.054         1.000   \n",
       "host_has_profile_pic          nan           nan        nan           nan   \n",
       "host_identity_verified        nan           nan        nan           nan   \n",
       "host_response_rate          0.003         0.021     -0.003         0.050   \n",
       "instant_bookable              nan           nan        nan           nan   \n",
       "latitude                    0.002        -0.078     -0.138        -0.061   \n",
       "longitude                  -0.044        -0.085     -0.135        -0.069   \n",
       "number_of_reviews          -0.023         0.042     -0.041         0.110   \n",
       "review_scores_rating        0.086        -0.021      0.012        -0.001   \n",
       "bedrooms                    0.448         0.709      0.590         0.105   \n",
       "beds                        0.422         0.810      0.526         0.132   \n",
       "\n",
       "                        host_has_profile_pic  host_identity_verified  \\\n",
       "log_price                                nan                     nan   \n",
       "accommodates                             nan                     nan   \n",
       "bathrooms                                nan                     nan   \n",
       "cleaning_fee                             nan                     nan   \n",
       "host_has_profile_pic                     nan                     nan   \n",
       "host_identity_verified                   nan                     nan   \n",
       "host_response_rate                       nan                     nan   \n",
       "instant_bookable                         nan                     nan   \n",
       "latitude                                 nan                     nan   \n",
       "longitude                                nan                     nan   \n",
       "number_of_reviews                        nan                     nan   \n",
       "review_scores_rating                     nan                     nan   \n",
       "bedrooms                                 nan                     nan   \n",
       "beds                                     nan                     nan   \n",
       "\n",
       "                        host_response_rate  instant_bookable  latitude  \\\n",
       "log_price                            0.003               nan     0.002   \n",
       "accommodates                         0.021               nan    -0.078   \n",
       "bathrooms                           -0.003               nan    -0.138   \n",
       "cleaning_fee                         0.050               nan    -0.061   \n",
       "host_has_profile_pic                   nan               nan       nan   \n",
       "host_identity_verified                 nan               nan       nan   \n",
       "host_response_rate                   1.000               nan     0.020   \n",
       "instant_bookable                       nan               nan       nan   \n",
       "latitude                             0.020               nan     1.000   \n",
       "longitude                            0.001               nan     0.896   \n",
       "number_of_reviews                    0.072               nan    -0.018   \n",
       "review_scores_rating                 0.047               nan    -0.032   \n",
       "bedrooms                             0.009               nan    -0.059   \n",
       "beds                                 0.019               nan    -0.080   \n",
       "\n",
       "                        longitude  number_of_reviews  review_scores_rating  \\\n",
       "log_price                  -0.044             -0.023                 0.086   \n",
       "accommodates               -0.085              0.042                -0.021   \n",
       "bathrooms                  -0.135             -0.041                 0.012   \n",
       "cleaning_fee               -0.069              0.110                -0.001   \n",
       "host_has_profile_pic          nan                nan                   nan   \n",
       "host_identity_verified        nan                nan                   nan   \n",
       "host_response_rate          0.001              0.072                 0.047   \n",
       "instant_bookable              nan                nan                   nan   \n",
       "latitude                    0.896             -0.018                -0.032   \n",
       "longitude                   1.000             -0.050                -0.043   \n",
       "number_of_reviews          -0.050              1.000                -0.023   \n",
       "review_scores_rating       -0.043             -0.023                 1.000   \n",
       "bedrooms                   -0.076             -0.035                 0.011   \n",
       "beds                       -0.082              0.032                -0.029   \n",
       "\n",
       "                        bedrooms   beds  \n",
       "log_price                  0.448  0.422  \n",
       "accommodates               0.709  0.810  \n",
       "bathrooms                  0.590  0.526  \n",
       "cleaning_fee               0.105  0.132  \n",
       "host_has_profile_pic         nan    nan  \n",
       "host_identity_verified       nan    nan  \n",
       "host_response_rate         0.009  0.019  \n",
       "instant_bookable             nan    nan  \n",
       "latitude                  -0.059 -0.080  \n",
       "longitude                 -0.076 -0.082  \n",
       "number_of_reviews         -0.035  0.032  \n",
       "review_scores_rating       0.011 -0.029  \n",
       "bedrooms                   1.000  0.709  \n",
       "beds                       0.709  1.000  "
      ]
     },
     "execution_count": 30,
     "metadata": {},
     "output_type": "execute_result"
    }
   ],
   "source": [
    "df.corr()"
   ]
  },
  {
   "cell_type": "code",
   "execution_count": 38,
   "metadata": {},
   "outputs": [
    {
     "data": {
      "text/plain": [
       "<AxesSubplot:>"
      ]
     },
     "execution_count": 38,
     "metadata": {},
     "output_type": "execute_result"
    },
    {
     "data": {
      "image/png": "[encoded data removed]",
      "text/plain": [
       "<Figure size 864x864 with 2 Axes>"
      ]
     },
     "metadata": {
      "needs_background": "light"
     },
     "output_type": "display_data"
    }
   ],
   "source": [
    "plt.figure(figsize = (12,12))\n",
    "sns.heatmap(df.corr(),annot=True)"
   ]
  },
  {
   "cell_type": "code",
   "execution_count": 37,
   "metadata": {},
   "outputs": [
    {
     "data": {
      "image/png": "[encoded data removed]",
      "text/plain": [
       "<Figure size 720x720 with 2 Axes>"
      ]
     },
     "metadata": {
      "needs_background": "light"
     },
     "output_type": "display_data"
    }
   ],
   "source": [
    "corr = df.corr()\n",
    "highest_corr_features = corr.index[abs(corr[\"log_price\"])>0.5]\n",
    "plt.figure(figsize=(10,10))\n",
    "g = sns.heatmap(df[highest_corr_features].corr(),annot=True)"
   ]
  },
  {
   "cell_type": "code",
   "execution_count": 39,
   "metadata": {},
   "outputs": [
    {
     "name": "stdout",
     "output_type": "stream",
     "text": [
      "Variables: [ 0.03155329  0.02166235 -0.01297971]\n",
      "Fixed value (bias): 1.6424117685966826\n"
     ]
    }
   ],
   "source": [
    "Y = df['log_price']\n",
    "X = df[['accommodates','bedrooms', 'beds']]\n",
    "lrm = linear_model.LinearRegression()\n",
    "lrm.fit(X, Y)\n",
    "print('Variables:', lrm.coef_)\n",
    "print('Fixed value (bias):', lrm.intercept_)"
   ]
  },
  {
   "cell_type": "code",
   "execution_count": 40,
   "metadata": {},
   "outputs": [
    {
     "data": {
      "text/html": [
       "<table class=\"simpletable\">\n",
       "<caption>OLS Regression Results</caption>\n",
       "<tr>\n",
       "  <th>Dep. Variable:</th>        <td>log_price</td>    <th>  R-squared:         </th>  <td>   0.317</td> \n",
       "</tr>\n",
       "<tr>\n",
       "  <th>Model:</th>                   <td>OLS</td>       <th>  Adj. R-squared:    </th>  <td>   0.317</td> \n",
       "</tr>\n",
       "<tr>\n",
       "  <th>Method:</th>             <td>Least Squares</td>  <th>  F-statistic:       </th>  <td>1.146e+04</td>\n",
       "</tr>\n",
       "<tr>\n",
       "  <th>Date:</th>             <td>Sun, 16 May 2021</td> <th>  Prob (F-statistic):</th>   <td>  0.00</td>  \n",
       "</tr>\n",
       "<tr>\n",
       "  <th>Time:</th>                 <td>19:44:00</td>     <th>  Log-Likelihood:    </th>  <td>  64344.</td> \n",
       "</tr>\n",
       "<tr>\n",
       "  <th>No. Observations:</th>      <td> 74111</td>      <th>  AIC:               </th> <td>-1.287e+05</td>\n",
       "</tr>\n",
       "<tr>\n",
       "  <th>Df Residuals:</th>          <td> 74107</td>      <th>  BIC:               </th> <td>-1.286e+05</td>\n",
       "</tr>\n",
       "<tr>\n",
       "  <th>Df Model:</th>              <td>     3</td>      <th>                     </th>      <td> </td>    \n",
       "</tr>\n",
       "<tr>\n",
       "  <th>Covariance Type:</th>      <td>nonrobust</td>    <th>                     </th>      <td> </td>    \n",
       "</tr>\n",
       "</table>\n",
       "<table class=\"simpletable\">\n",
       "<tr>\n",
       "        <td></td>          <th>coef</th>     <th>std err</th>      <th>t</th>      <th>P>|t|</th>  <th>[0.025</th>    <th>0.975]</th>  \n",
       "</tr>\n",
       "<tr>\n",
       "  <th>const</th>        <td>    1.6424</td> <td>    0.001</td> <td> 2333.897</td> <td> 0.000</td> <td>    1.641</td> <td>    1.644</td>\n",
       "</tr>\n",
       "<tr>\n",
       "  <th>accommodates</th> <td>    0.0316</td> <td>    0.000</td> <td>  100.933</td> <td> 0.000</td> <td>    0.031</td> <td>    0.032</td>\n",
       "</tr>\n",
       "<tr>\n",
       "  <th>bedrooms</th>     <td>    0.0217</td> <td>    0.001</td> <td>   32.964</td> <td> 0.000</td> <td>    0.020</td> <td>    0.023</td>\n",
       "</tr>\n",
       "<tr>\n",
       "  <th>beds</th>         <td>   -0.0130</td> <td>    0.001</td> <td>  -24.165</td> <td> 0.000</td> <td>   -0.014</td> <td>   -0.012</td>\n",
       "</tr>\n",
       "</table>\n",
       "<table class=\"simpletable\">\n",
       "<tr>\n",
       "  <th>Omnibus:</th>       <td>4221.154</td> <th>  Durbin-Watson:     </th> <td>   2.003</td> \n",
       "</tr>\n",
       "<tr>\n",
       "  <th>Prob(Omnibus):</th>  <td> 0.000</td>  <th>  Jarque-Bera (JB):  </th> <td>15558.163</td>\n",
       "</tr>\n",
       "<tr>\n",
       "  <th>Skew:</th>           <td>-0.178</td>  <th>  Prob(JB):          </th> <td>    0.00</td> \n",
       "</tr>\n",
       "<tr>\n",
       "  <th>Kurtosis:</th>       <td> 5.216</td>  <th>  Cond. No.          </th> <td>    9.73</td> \n",
       "</tr>\n",
       "</table><br/><br/>Notes:<br/>[1] Standard Errors assume that the covariance matrix of the errors is correctly specified."
      ],
      "text/plain": [
       "<class 'statsmodels.iolib.summary.Summary'>\n",
       "\"\"\"\n",
       "                            OLS Regression Results                            \n",
       "==============================================================================\n",
       "Dep. Variable:              log_price   R-squared:                       0.317\n",
       "Model:                            OLS   Adj. R-squared:                  0.317\n",
       "Method:                 Least Squares   F-statistic:                 1.146e+04\n",
       "Date:                Sun, 16 May 2021   Prob (F-statistic):               0.00\n",
       "Time:                        19:44:00   Log-Likelihood:                 64344.\n",
       "No. Observations:               74111   AIC:                        -1.287e+05\n",
       "Df Residuals:                   74107   BIC:                        -1.286e+05\n",
       "Df Model:                           3                                         \n",
       "Covariance Type:            nonrobust                                         \n",
       "================================================================================\n",
       "                   coef    std err          t      P>|t|      [0.025      0.975]\n",
       "--------------------------------------------------------------------------------\n",
       "const            1.6424      0.001   2333.897      0.000       1.641       1.644\n",
       "accommodates     0.0316      0.000    100.933      0.000       0.031       0.032\n",
       "bedrooms         0.0217      0.001     32.964      0.000       0.020       0.023\n",
       "beds            -0.0130      0.001    -24.165      0.000      -0.014      -0.012\n",
       "==============================================================================\n",
       "Omnibus:                     4221.154   Durbin-Watson:                   2.003\n",
       "Prob(Omnibus):                  0.000   Jarque-Bera (JB):            15558.163\n",
       "Skew:                          -0.178   Prob(JB):                         0.00\n",
       "Kurtosis:                       5.216   Cond. No.                         9.73\n",
       "==============================================================================\n",
       "\n",
       "Notes:\n",
       "[1] Standard Errors assume that the covariance matrix of the errors is correctly specified.\n",
       "\"\"\""
      ]
     },
     "execution_count": 40,
     "metadata": {},
     "output_type": "execute_result"
    }
   ],
   "source": [
    "X = sm.add_constant(X)\n",
    "results = sm.OLS(Y, X).fit()\n",
    "results.summary()"
   ]
  },
  {
   "cell_type": "code",
   "execution_count": 42,
   "metadata": {},
   "outputs": [
    {
     "name": "stdout",
     "output_type": "stream",
     "text": [
      "Train observations : 59288\n",
      "Test observations   : 14823\n"
     ]
    }
   ],
   "source": [
    "#lineer regresyon ile tahmin \n",
    "X_train, X_test, y_train, y_test = train_test_split(X, Y, test_size = 0.2, random_state = 123)\n",
    "Y = df['log_price']\n",
    "X = df[['accommodates','bedrooms', 'beds']]\n",
    "print(\"Train observations : {}\".format(X_train.shape[0]))\n",
    "print(\"Test observations   : {}\".format(X_test.shape[0]))"
   ]
  },
  {
   "cell_type": "code",
   "execution_count": 43,
   "metadata": {},
   "outputs": [
    {
     "data": {
      "text/html": [
       "<table class=\"simpletable\">\n",
       "<caption>OLS Regression Results</caption>\n",
       "<tr>\n",
       "  <th>Dep. Variable:</th>        <td>log_price</td>    <th>  R-squared:         </th>  <td>   0.316</td> \n",
       "</tr>\n",
       "<tr>\n",
       "  <th>Model:</th>                   <td>OLS</td>       <th>  Adj. R-squared:    </th>  <td>   0.316</td> \n",
       "</tr>\n",
       "<tr>\n",
       "  <th>Method:</th>             <td>Least Squares</td>  <th>  F-statistic:       </th>  <td>   9139.</td> \n",
       "</tr>\n",
       "<tr>\n",
       "  <th>Date:</th>             <td>Sun, 16 May 2021</td> <th>  Prob (F-statistic):</th>   <td>  0.00</td>  \n",
       "</tr>\n",
       "<tr>\n",
       "  <th>Time:</th>                 <td>19:47:50</td>     <th>  Log-Likelihood:    </th>  <td>  51465.</td> \n",
       "</tr>\n",
       "<tr>\n",
       "  <th>No. Observations:</th>      <td> 59288</td>      <th>  AIC:               </th> <td>-1.029e+05</td>\n",
       "</tr>\n",
       "<tr>\n",
       "  <th>Df Residuals:</th>          <td> 59284</td>      <th>  BIC:               </th> <td>-1.029e+05</td>\n",
       "</tr>\n",
       "<tr>\n",
       "  <th>Df Model:</th>              <td>     3</td>      <th>                     </th>      <td> </td>    \n",
       "</tr>\n",
       "<tr>\n",
       "  <th>Covariance Type:</th>      <td>nonrobust</td>    <th>                     </th>      <td> </td>    \n",
       "</tr>\n",
       "</table>\n",
       "<table class=\"simpletable\">\n",
       "<tr>\n",
       "        <td></td>          <th>coef</th>     <th>std err</th>      <th>t</th>      <th>P>|t|</th>  <th>[0.025</th>    <th>0.975]</th>  \n",
       "</tr>\n",
       "<tr>\n",
       "  <th>const</th>        <td>    1.6425</td> <td>    0.001</td> <td> 2086.816</td> <td> 0.000</td> <td>    1.641</td> <td>    1.644</td>\n",
       "</tr>\n",
       "<tr>\n",
       "  <th>accommodates</th> <td>    0.0319</td> <td>    0.000</td> <td>   91.385</td> <td> 0.000</td> <td>    0.031</td> <td>    0.033</td>\n",
       "</tr>\n",
       "<tr>\n",
       "  <th>bedrooms</th>     <td>    0.0215</td> <td>    0.001</td> <td>   29.376</td> <td> 0.000</td> <td>    0.020</td> <td>    0.023</td>\n",
       "</tr>\n",
       "<tr>\n",
       "  <th>beds</th>         <td>   -0.0138</td> <td>    0.001</td> <td>  -22.974</td> <td> 0.000</td> <td>   -0.015</td> <td>   -0.013</td>\n",
       "</tr>\n",
       "</table>\n",
       "<table class=\"simpletable\">\n",
       "<tr>\n",
       "  <th>Omnibus:</th>       <td>3769.212</td> <th>  Durbin-Watson:     </th> <td>   2.001</td> \n",
       "</tr>\n",
       "<tr>\n",
       "  <th>Prob(Omnibus):</th>  <td> 0.000</td>  <th>  Jarque-Bera (JB):  </th> <td>14942.085</td>\n",
       "</tr>\n",
       "<tr>\n",
       "  <th>Skew:</th>           <td>-0.201</td>  <th>  Prob(JB):          </th> <td>    0.00</td> \n",
       "</tr>\n",
       "<tr>\n",
       "  <th>Kurtosis:</th>       <td> 5.426</td>  <th>  Cond. No.          </th> <td>    9.73</td> \n",
       "</tr>\n",
       "</table><br/><br/>Notes:<br/>[1] Standard Errors assume that the covariance matrix of the errors is correctly specified."
      ],
      "text/plain": [
       "<class 'statsmodels.iolib.summary.Summary'>\n",
       "\"\"\"\n",
       "                            OLS Regression Results                            \n",
       "==============================================================================\n",
       "Dep. Variable:              log_price   R-squared:                       0.316\n",
       "Model:                            OLS   Adj. R-squared:                  0.316\n",
       "Method:                 Least Squares   F-statistic:                     9139.\n",
       "Date:                Sun, 16 May 2021   Prob (F-statistic):               0.00\n",
       "Time:                        19:47:50   Log-Likelihood:                 51465.\n",
       "No. Observations:               59288   AIC:                        -1.029e+05\n",
       "Df Residuals:                   59284   BIC:                        -1.029e+05\n",
       "Df Model:                           3                                         \n",
       "Covariance Type:            nonrobust                                         \n",
       "================================================================================\n",
       "                   coef    std err          t      P>|t|      [0.025      0.975]\n",
       "--------------------------------------------------------------------------------\n",
       "const            1.6425      0.001   2086.816      0.000       1.641       1.644\n",
       "accommodates     0.0319      0.000     91.385      0.000       0.031       0.033\n",
       "bedrooms         0.0215      0.001     29.376      0.000       0.020       0.023\n",
       "beds            -0.0138      0.001    -22.974      0.000      -0.015      -0.013\n",
       "==============================================================================\n",
       "Omnibus:                     3769.212   Durbin-Watson:                   2.001\n",
       "Prob(Omnibus):                  0.000   Jarque-Bera (JB):            14942.085\n",
       "Skew:                          -0.201   Prob(JB):                         0.00\n",
       "Kurtosis:                       5.426   Cond. No.                         9.73\n",
       "==============================================================================\n",
       "\n",
       "Notes:\n",
       "[1] Standard Errors assume that the covariance matrix of the errors is correctly specified.\n",
       "\"\"\""
      ]
     },
     "execution_count": 43,
     "metadata": {},
     "output_type": "execute_result"
    }
   ],
   "source": [
    "X_train = sm.add_constant(X_train)\n",
    "\n",
    "sonuclar = sm.OLS(y_train, X_train).fit()\n",
    "\n",
    "sonuclar.summary()"
   ]
  },
  {
   "cell_type": "code",
   "execution_count": 45,
   "metadata": {},
   "outputs": [
    {
     "name": "stdout",
     "output_type": "stream",
     "text": [
      "Mean Absolute Error(MAE)        : 0.07839864666508013\n",
      "Mean Square Error (MSE)          : 0.010303869464650402\n",
      "Root Mean Square Error (RMSE)     : 0.10150797734488852\n",
      "Average Absolute Percent Error (MAPE) : 4.521514698274729\n"
     ]
    }
   ],
   "source": [
    "X_test = sm.add_constant(X_test)\n",
    "\n",
    "y_preds = sonuclar.predict(X_test)\n",
    "\n",
    "print(\"Mean Absolute Error(MAE)        : {}\".format(mean_absolute_error(y_test, y_preds)))\n",
    "print(\"Mean Square Error (MSE)          : {}\".format(mse(y_test, y_preds)))\n",
    "print(\"Root Mean Square Error (RMSE)     : {}\".format(rmse(y_test, y_preds)))\n",
    "print(\"Average Absolute Percent Error (MAPE) : {}\".format(np.mean(np.abs((y_test - y_preds) / y_test)) * 100))"
   ]
  },
  {
   "cell_type": "code",
   "execution_count": 46,
   "metadata": {},
   "outputs": [
    {
     "data": {
      "image/png": "[encoded data removed]",
      "text/plain": [
       "<Figure size 600x400 with 1 Axes>"
      ]
     },
     "metadata": {
      "needs_background": "light"
     },
     "output_type": "display_data"
    }
   ],
   "source": [
    "plt.figure(dpi = 100)\n",
    "plt.scatter(y_test, y_preds)\n",
    "plt.plot(y_test, y_test, color=\"red\")\n",
    "plt.xlabel(\"Real Values\")\n",
    "plt.ylabel(\"Predicted Values\")\n",
    "plt.show()"
   ]
  },
  {
   "cell_type": "code",
   "execution_count": 47,
   "metadata": {},
   "outputs": [
    {
     "data": {
      "text/html": [
       "<table class=\"simpletable\">\n",
       "<caption>OLS Regression Results</caption>\n",
       "<tr>\n",
       "  <th>Dep. Variable:</th>        <td>log_price</td>    <th>  R-squared:         </th>  <td>   0.316</td> \n",
       "</tr>\n",
       "<tr>\n",
       "  <th>Model:</th>                   <td>OLS</td>       <th>  Adj. R-squared:    </th>  <td>   0.316</td> \n",
       "</tr>\n",
       "<tr>\n",
       "  <th>Method:</th>             <td>Least Squares</td>  <th>  F-statistic:       </th>  <td>   9139.</td> \n",
       "</tr>\n",
       "<tr>\n",
       "  <th>Date:</th>             <td>Sun, 16 May 2021</td> <th>  Prob (F-statistic):</th>   <td>  0.00</td>  \n",
       "</tr>\n",
       "<tr>\n",
       "  <th>Time:</th>                 <td>19:58:40</td>     <th>  Log-Likelihood:    </th>  <td>  51465.</td> \n",
       "</tr>\n",
       "<tr>\n",
       "  <th>No. Observations:</th>      <td> 59288</td>      <th>  AIC:               </th> <td>-1.029e+05</td>\n",
       "</tr>\n",
       "<tr>\n",
       "  <th>Df Residuals:</th>          <td> 59284</td>      <th>  BIC:               </th> <td>-1.029e+05</td>\n",
       "</tr>\n",
       "<tr>\n",
       "  <th>Df Model:</th>              <td>     3</td>      <th>                     </th>      <td> </td>    \n",
       "</tr>\n",
       "<tr>\n",
       "  <th>Covariance Type:</th>      <td>nonrobust</td>    <th>                     </th>      <td> </td>    \n",
       "</tr>\n",
       "</table>\n",
       "<table class=\"simpletable\">\n",
       "<tr>\n",
       "        <td></td>          <th>coef</th>     <th>std err</th>      <th>t</th>      <th>P>|t|</th>  <th>[0.025</th>    <th>0.975]</th>  \n",
       "</tr>\n",
       "<tr>\n",
       "  <th>const</th>        <td>    1.6425</td> <td>    0.001</td> <td> 2086.816</td> <td> 0.000</td> <td>    1.641</td> <td>    1.644</td>\n",
       "</tr>\n",
       "<tr>\n",
       "  <th>accommodates</th> <td>    0.0319</td> <td>    0.000</td> <td>   91.385</td> <td> 0.000</td> <td>    0.031</td> <td>    0.033</td>\n",
       "</tr>\n",
       "<tr>\n",
       "  <th>bedrooms</th>     <td>    0.0215</td> <td>    0.001</td> <td>   29.376</td> <td> 0.000</td> <td>    0.020</td> <td>    0.023</td>\n",
       "</tr>\n",
       "<tr>\n",
       "  <th>beds</th>         <td>   -0.0138</td> <td>    0.001</td> <td>  -22.974</td> <td> 0.000</td> <td>   -0.015</td> <td>   -0.013</td>\n",
       "</tr>\n",
       "</table>\n",
       "<table class=\"simpletable\">\n",
       "<tr>\n",
       "  <th>Omnibus:</th>       <td>3769.212</td> <th>  Durbin-Watson:     </th> <td>   2.001</td> \n",
       "</tr>\n",
       "<tr>\n",
       "  <th>Prob(Omnibus):</th>  <td> 0.000</td>  <th>  Jarque-Bera (JB):  </th> <td>14942.085</td>\n",
       "</tr>\n",
       "<tr>\n",
       "  <th>Skew:</th>           <td>-0.201</td>  <th>  Prob(JB):          </th> <td>    0.00</td> \n",
       "</tr>\n",
       "<tr>\n",
       "  <th>Kurtosis:</th>       <td> 5.426</td>  <th>  Cond. No.          </th> <td>    9.73</td> \n",
       "</tr>\n",
       "</table><br/><br/>Notes:<br/>[1] Standard Errors assume that the covariance matrix of the errors is correctly specified."
      ],
      "text/plain": [
       "<class 'statsmodels.iolib.summary.Summary'>\n",
       "\"\"\"\n",
       "                            OLS Regression Results                            \n",
       "==============================================================================\n",
       "Dep. Variable:              log_price   R-squared:                       0.316\n",
       "Model:                            OLS   Adj. R-squared:                  0.316\n",
       "Method:                 Least Squares   F-statistic:                     9139.\n",
       "Date:                Sun, 16 May 2021   Prob (F-statistic):               0.00\n",
       "Time:                        19:58:40   Log-Likelihood:                 51465.\n",
       "No. Observations:               59288   AIC:                        -1.029e+05\n",
       "Df Residuals:                   59284   BIC:                        -1.029e+05\n",
       "Df Model:                           3                                         \n",
       "Covariance Type:            nonrobust                                         \n",
       "================================================================================\n",
       "                   coef    std err          t      P>|t|      [0.025      0.975]\n",
       "--------------------------------------------------------------------------------\n",
       "const            1.6425      0.001   2086.816      0.000       1.641       1.644\n",
       "accommodates     0.0319      0.000     91.385      0.000       0.031       0.033\n",
       "bedrooms         0.0215      0.001     29.376      0.000       0.020       0.023\n",
       "beds            -0.0138      0.001    -22.974      0.000      -0.015      -0.013\n",
       "==============================================================================\n",
       "Omnibus:                     3769.212   Durbin-Watson:                   2.001\n",
       "Prob(Omnibus):                  0.000   Jarque-Bera (JB):            14942.085\n",
       "Skew:                          -0.201   Prob(JB):                         0.00\n",
       "Kurtosis:                       5.426   Cond. No.                         9.73\n",
       "==============================================================================\n",
       "\n",
       "Notes:\n",
       "[1] Standard Errors assume that the covariance matrix of the errors is correctly specified.\n",
       "\"\"\""
      ]
     },
     "execution_count": 47,
     "metadata": {},
     "output_type": "execute_result"
    }
   ],
   "source": [
    "Y = df['log_price']\n",
    "X = df[['accommodates','bedrooms', 'beds']]\n",
    "X_train, X_test, y_train, y_test = train_test_split(X, Y, test_size = 0.2, random_state = 123)\n",
    "\n",
    "X_train = sm.add_constant(X_train)\n",
    "\n",
    "sonuclar = sm.OLS(y_train, X_train).fit()\n",
    "\n",
    "sonuclar.summary()"
   ]
  },
  {
   "cell_type": "code",
   "execution_count": 48,
   "metadata": {},
   "outputs": [],
   "source": [
    "from sklearn.model_selection import KFold, GridSearchCV\n",
    "from sklearn import preprocessing"
   ]
  },
  {
   "cell_type": "code",
   "execution_count": 49,
   "metadata": {},
   "outputs": [],
   "source": [
    "df['log_price']= df['log_price'].fillna(df['log_price'].mode()[0])"
   ]
  },
  {
   "cell_type": "code",
   "execution_count": null,
   "metadata": {},
   "outputs": [],
   "source": [
    "# test.csv"
   ]
  },
  {
   "cell_type": "code",
   "execution_count": null,
   "metadata": {},
   "outputs": [],
   "source": []
  }
 ],
 "metadata": {
  "kernelspec": {
   "display_name": "Python 3",
   "language": "python",
   "name": "python3"
  },
  "language_info": {
   "codemirror_mode": {
    "name": "ipython",
    "version": 3
   },
   "file_extension": ".py",
   "mimetype": "text/x-python",
   "name": "python",
   "nbconvert_exporter": "python",
   "pygments_lexer": "ipython3",
   "version": "3.8.5"
  }
 },
 "nbformat": 4,
 "nbformat_minor": 4
}
